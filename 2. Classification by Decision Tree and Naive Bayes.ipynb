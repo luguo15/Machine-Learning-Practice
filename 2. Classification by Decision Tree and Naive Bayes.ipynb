{
 "cells": [
  {
   "attachments": {},
   "cell_type": "markdown",
   "metadata": {},
   "source": [
    "# IST 707\n",
    "Name: Lu Guo"
   ]
  },
  {
   "attachments": {},
   "cell_type": "markdown",
   "metadata": {},
   "source": [
    "## Section 1: Introduction"
   ]
  },
  {
   "attachments": {},
   "cell_type": "markdown",
   "metadata": {},
   "source": [
    "The classification problem is to classify digital numbers from 0 to 9 from handwritten pictures. Each row represents a handwritten picture, and each picture contains one number."
   ]
  },
  {
   "cell_type": "code",
   "execution_count": 30,
   "metadata": {},
   "outputs": [],
   "source": [
    "import pandas as pd\n",
    "df_train = pd.read_csv('digit-train.csv')\n",
    "df_test = pd.read_csv('digit-test.csv')"
   ]
  },
  {
   "cell_type": "code",
   "execution_count": 31,
   "metadata": {},
   "outputs": [
    {
     "name": "stdout",
     "output_type": "stream",
     "text": [
      "4198\n",
      "4198\n"
     ]
    }
   ],
   "source": [
    "print(len(df_train)) # show the number of rows in the training set\n",
    "print(len(df_test)) # show the number of rows in the test set"
   ]
  },
  {
   "cell_type": "code",
   "execution_count": 32,
   "metadata": {},
   "outputs": [
    {
     "data": {
      "text/html": [
       "<div>\n",
       "<style scoped>\n",
       "    .dataframe tbody tr th:only-of-type {\n",
       "        vertical-align: middle;\n",
       "    }\n",
       "\n",
       "    .dataframe tbody tr th {\n",
       "        vertical-align: top;\n",
       "    }\n",
       "\n",
       "    .dataframe thead th {\n",
       "        text-align: right;\n",
       "    }\n",
       "</style>\n",
       "<table border=\"1\" class=\"dataframe\">\n",
       "  <thead>\n",
       "    <tr style=\"text-align: right;\">\n",
       "      <th></th>\n",
       "      <th>label</th>\n",
       "      <th>pixel0</th>\n",
       "      <th>pixel1</th>\n",
       "      <th>pixel2</th>\n",
       "      <th>pixel3</th>\n",
       "      <th>pixel4</th>\n",
       "      <th>pixel5</th>\n",
       "      <th>pixel6</th>\n",
       "      <th>pixel7</th>\n",
       "      <th>pixel8</th>\n",
       "      <th>...</th>\n",
       "      <th>pixel774</th>\n",
       "      <th>pixel775</th>\n",
       "      <th>pixel776</th>\n",
       "      <th>pixel777</th>\n",
       "      <th>pixel778</th>\n",
       "      <th>pixel779</th>\n",
       "      <th>pixel780</th>\n",
       "      <th>pixel781</th>\n",
       "      <th>pixel782</th>\n",
       "      <th>pixel783</th>\n",
       "    </tr>\n",
       "  </thead>\n",
       "  <tbody>\n",
       "    <tr>\n",
       "      <th>0</th>\n",
       "      <td>3</td>\n",
       "      <td>0</td>\n",
       "      <td>0</td>\n",
       "      <td>0</td>\n",
       "      <td>0</td>\n",
       "      <td>0</td>\n",
       "      <td>0</td>\n",
       "      <td>0</td>\n",
       "      <td>0</td>\n",
       "      <td>0</td>\n",
       "      <td>...</td>\n",
       "      <td>0</td>\n",
       "      <td>0</td>\n",
       "      <td>0</td>\n",
       "      <td>0</td>\n",
       "      <td>0</td>\n",
       "      <td>0</td>\n",
       "      <td>0</td>\n",
       "      <td>0</td>\n",
       "      <td>0</td>\n",
       "      <td>0</td>\n",
       "    </tr>\n",
       "    <tr>\n",
       "      <th>1</th>\n",
       "      <td>5</td>\n",
       "      <td>0</td>\n",
       "      <td>0</td>\n",
       "      <td>0</td>\n",
       "      <td>0</td>\n",
       "      <td>0</td>\n",
       "      <td>0</td>\n",
       "      <td>0</td>\n",
       "      <td>0</td>\n",
       "      <td>0</td>\n",
       "      <td>...</td>\n",
       "      <td>0</td>\n",
       "      <td>0</td>\n",
       "      <td>0</td>\n",
       "      <td>0</td>\n",
       "      <td>0</td>\n",
       "      <td>0</td>\n",
       "      <td>0</td>\n",
       "      <td>0</td>\n",
       "      <td>0</td>\n",
       "      <td>0</td>\n",
       "    </tr>\n",
       "    <tr>\n",
       "      <th>2</th>\n",
       "      <td>3</td>\n",
       "      <td>0</td>\n",
       "      <td>0</td>\n",
       "      <td>0</td>\n",
       "      <td>0</td>\n",
       "      <td>0</td>\n",
       "      <td>0</td>\n",
       "      <td>0</td>\n",
       "      <td>0</td>\n",
       "      <td>0</td>\n",
       "      <td>...</td>\n",
       "      <td>0</td>\n",
       "      <td>0</td>\n",
       "      <td>0</td>\n",
       "      <td>0</td>\n",
       "      <td>0</td>\n",
       "      <td>0</td>\n",
       "      <td>0</td>\n",
       "      <td>0</td>\n",
       "      <td>0</td>\n",
       "      <td>0</td>\n",
       "    </tr>\n",
       "    <tr>\n",
       "      <th>3</th>\n",
       "      <td>2</td>\n",
       "      <td>0</td>\n",
       "      <td>0</td>\n",
       "      <td>0</td>\n",
       "      <td>0</td>\n",
       "      <td>0</td>\n",
       "      <td>0</td>\n",
       "      <td>0</td>\n",
       "      <td>0</td>\n",
       "      <td>0</td>\n",
       "      <td>...</td>\n",
       "      <td>0</td>\n",
       "      <td>0</td>\n",
       "      <td>0</td>\n",
       "      <td>0</td>\n",
       "      <td>0</td>\n",
       "      <td>0</td>\n",
       "      <td>0</td>\n",
       "      <td>0</td>\n",
       "      <td>0</td>\n",
       "      <td>0</td>\n",
       "    </tr>\n",
       "    <tr>\n",
       "      <th>4</th>\n",
       "      <td>0</td>\n",
       "      <td>0</td>\n",
       "      <td>0</td>\n",
       "      <td>0</td>\n",
       "      <td>0</td>\n",
       "      <td>0</td>\n",
       "      <td>0</td>\n",
       "      <td>0</td>\n",
       "      <td>0</td>\n",
       "      <td>0</td>\n",
       "      <td>...</td>\n",
       "      <td>0</td>\n",
       "      <td>0</td>\n",
       "      <td>0</td>\n",
       "      <td>0</td>\n",
       "      <td>0</td>\n",
       "      <td>0</td>\n",
       "      <td>0</td>\n",
       "      <td>0</td>\n",
       "      <td>0</td>\n",
       "      <td>0</td>\n",
       "    </tr>\n",
       "  </tbody>\n",
       "</table>\n",
       "<p>5 rows × 785 columns</p>\n",
       "</div>"
      ],
      "text/plain": [
       "   label  pixel0  pixel1  pixel2  pixel3  pixel4  pixel5  pixel6  pixel7  \\\n",
       "0      3       0       0       0       0       0       0       0       0   \n",
       "1      5       0       0       0       0       0       0       0       0   \n",
       "2      3       0       0       0       0       0       0       0       0   \n",
       "3      2       0       0       0       0       0       0       0       0   \n",
       "4      0       0       0       0       0       0       0       0       0   \n",
       "\n",
       "   pixel8  ...  pixel774  pixel775  pixel776  pixel777  pixel778  pixel779  \\\n",
       "0       0  ...         0         0         0         0         0         0   \n",
       "1       0  ...         0         0         0         0         0         0   \n",
       "2       0  ...         0         0         0         0         0         0   \n",
       "3       0  ...         0         0         0         0         0         0   \n",
       "4       0  ...         0         0         0         0         0         0   \n",
       "\n",
       "   pixel780  pixel781  pixel782  pixel783  \n",
       "0         0         0         0         0  \n",
       "1         0         0         0         0  \n",
       "2         0         0         0         0  \n",
       "3         0         0         0         0  \n",
       "4         0         0         0         0  \n",
       "\n",
       "[5 rows x 785 columns]"
      ]
     },
     "execution_count": 32,
     "metadata": {},
     "output_type": "execute_result"
    }
   ],
   "source": [
    "df_train.head() # show the first 5 rows of the training set"
   ]
  },
  {
   "attachments": {},
   "cell_type": "markdown",
   "metadata": {},
   "source": [
    "We can see that every row has 785 columns, the first column called label is the target variable, and the rest 784 columns are the features. The features are the pixel values of the images, and the target variable is the digit that the image represents. If the values of the features are 0, it means the pixel is white, and if the values are 255, it means the pixel is black. The values in between are gray."
   ]
  },
  {
   "cell_type": "code",
   "execution_count": 46,
   "metadata": {},
   "outputs": [
    {
     "name": "stdout",
     "output_type": "stream",
     "text": [
      "3\n",
      "21\n",
      "130\n",
      "190\n",
      "254\n",
      "254\n",
      "250\n",
      "175\n",
      "135\n",
      "96\n",
      "96\n",
      "16\n",
      "4\n",
      "26\n",
      "102\n",
      "186\n",
      "254\n",
      "254\n",
      "248\n",
      "222\n",
      "222\n",
      "225\n",
      "254\n",
      "254\n",
      "254\n",
      "254\n",
      "254\n",
      "206\n",
      "112\n",
      "4\n",
      "207\n",
      "254\n",
      "254\n",
      "177\n",
      "117\n",
      "39\n",
      "56\n",
      "248\n",
      "102\n",
      "48\n",
      "48\n",
      "103\n",
      "192\n",
      "254\n",
      "135\n",
      "91\n",
      "111\n",
      "36\n",
      "72\n",
      "92\n",
      "12\n",
      "224\n",
      "210\n",
      "5\n",
      "50\n",
      "139\n",
      "240\n",
      "254\n",
      "66\n",
      "7\n",
      "121\n",
      "220\n",
      "254\n",
      "244\n",
      "194\n",
      "15\n",
      "8\n",
      "107\n",
      "112\n",
      "112\n",
      "112\n",
      "87\n",
      "112\n",
      "141\n",
      "218\n",
      "248\n",
      "177\n",
      "68\n",
      "20\n",
      "77\n",
      "221\n",
      "254\n",
      "254\n",
      "254\n",
      "254\n",
      "254\n",
      "225\n",
      "104\n",
      "39\n",
      "10\n",
      "32\n",
      "32\n",
      "32\n",
      "32\n",
      "130\n",
      "215\n",
      "195\n",
      "47\n",
      "6\n",
      "111\n",
      "231\n",
      "174\n",
      "5\n",
      "47\n",
      "18\n",
      "40\n",
      "228\n",
      "205\n",
      "35\n",
      "22\n",
      "234\n",
      "42\n",
      "56\n",
      "212\n",
      "226\n",
      "38\n",
      "96\n",
      "157\n",
      "30\n",
      "215\n",
      "188\n",
      "9\n",
      "96\n",
      "142\n",
      "86\n",
      "254\n",
      "68\n",
      "71\n",
      "202\n",
      "15\n",
      "6\n",
      "214\n",
      "151\n",
      "10\n",
      "231\n",
      "86\n",
      "2\n",
      "191\n",
      "207\n",
      "93\n",
      "248\n",
      "129\n",
      "7\n",
      "117\n",
      "238\n",
      "112\n",
      "94\n",
      "248\n",
      "209\n",
      "73\n",
      "12\n",
      "42\n",
      "147\n",
      "252\n",
      "136\n",
      "9\n",
      "48\n",
      "160\n",
      "215\n",
      "230\n",
      "158\n",
      "74\n",
      "64\n",
      "94\n",
      "153\n",
      "223\n",
      "250\n",
      "214\n",
      "105\n",
      "11\n",
      "129\n",
      "189\n",
      "234\n",
      "224\n",
      "255\n",
      "194\n",
      "134\n",
      "75\n",
      "6\n"
     ]
    }
   ],
   "source": [
    "# print the pixel number that is not 0 in the first row of the training set\n",
    "for i in range(784):\n",
    "    if df_train.iloc[0,i] != 0:\n",
    "        print(df_train.iloc[0,i])\n"
   ]
  },
  {
   "cell_type": "code",
   "execution_count": 34,
   "metadata": {},
   "outputs": [
    {
     "data": {
      "text/plain": [
       "1    471\n",
       "8    438\n",
       "7    436\n",
       "3    425\n",
       "4    420\n",
       "0    418\n",
       "6    416\n",
       "2    413\n",
       "5    390\n",
       "9    371\n",
       "Name: label, dtype: int64"
      ]
     },
     "execution_count": 34,
     "metadata": {},
     "output_type": "execute_result"
    }
   ],
   "source": [
    "# Show the distribution of the labels in the training set\n",
    "df_train['label'].value_counts()"
   ]
  },
  {
   "cell_type": "code",
   "execution_count": 35,
   "metadata": {},
   "outputs": [
    {
     "data": {
      "text/plain": [
       "<AxesSubplot: >"
      ]
     },
     "execution_count": 35,
     "metadata": {},
     "output_type": "execute_result"
    },
    {
     "data": {
      "image/png": "[encoded data removed]",
      "text/plain": [
       "<Figure size 640x480 with 1 Axes>"
      ]
     },
     "metadata": {},
     "output_type": "display_data"
    }
   ],
   "source": [
    "# create a histogram of the label distribution\n",
    "df_train['label'].hist()\n"
   ]
  },
  {
   "cell_type": "code",
   "execution_count": 36,
   "metadata": {},
   "outputs": [
    {
     "data": {
      "text/plain": [
       "1    478\n",
       "7    465\n",
       "3    446\n",
       "2    420\n",
       "0    414\n",
       "4    404\n",
       "6    404\n",
       "8    393\n",
       "5    388\n",
       "9    386\n",
       "Name: label, dtype: int64"
      ]
     },
     "execution_count": 36,
     "metadata": {},
     "output_type": "execute_result"
    }
   ],
   "source": [
    "# Show the distribution of the labels in the test set\n",
    "df_test['label'].value_counts()"
   ]
  },
  {
   "cell_type": "code",
   "execution_count": 37,
   "metadata": {},
   "outputs": [
    {
     "data": {
      "text/plain": [
       "<AxesSubplot: >"
      ]
     },
     "execution_count": 37,
     "metadata": {},
     "output_type": "execute_result"
    },
    {
     "data": {
      "image/png": "[encoded data removed]",
      "text/plain": [
       "<Figure size 640x480 with 1 Axes>"
      ]
     },
     "metadata": {},
     "output_type": "display_data"
    }
   ],
   "source": [
    "df_test['label'].hist()"
   ]
  },
  {
   "attachments": {},
   "cell_type": "markdown",
   "metadata": {},
   "source": [
    "We can see that the target numbers are distributed evenly, and there are 10 classes in total, from 0 to 9."
   ]
  },
  {
   "attachments": {},
   "cell_type": "markdown",
   "metadata": {},
   "source": [
    "## 2. Creating decision tree models"
   ]
  },
  {
   "attachments": {},
   "cell_type": "markdown",
   "metadata": {},
   "source": [
    "### 2.1. Data preprocessing"
   ]
  },
  {
   "cell_type": "code",
   "execution_count": 38,
   "metadata": {},
   "outputs": [],
   "source": [
    "# Create a decision tree classifier to identify the digits\n",
    "from sklearn.tree import DecisionTreeClassifier\n",
    "from sklearn.metrics import accuracy_score\n",
    "from sklearn.model_selection import cross_val_score\n",
    "\n",
    "# separate the labels from the training and testing datasets, because the labels are not features. The training and testing datasets only contain the pixel values.\n",
    "X_train = df_train.drop('label', axis=1) \n",
    "y_train = df_train['label']\n",
    "\n",
    "X_test = df_test.drop('label', axis=1)\n",
    "y_test = df_test['label']"
   ]
  },
  {
   "attachments": {},
   "cell_type": "markdown",
   "metadata": {},
   "source": [
    "### 2.2 Create a basic decision tree model"
   ]
  },
  {
   "cell_type": "code",
   "execution_count": 39,
   "metadata": {},
   "outputs": [
    {
     "name": "stdout",
     "output_type": "stream",
     "text": [
      "Accuracy: 0.7782277274892806\n",
      "5-fold CV accuracy: 0.7508360292865657\n"
     ]
    }
   ],
   "source": [
    "# create a basic decision tree classifier\n",
    "dtc1 = DecisionTreeClassifier()\n",
    "\n",
    "# perform 5-fold cross-validation on the training data\n",
    "scores = cross_val_score(dtc1, X_train, y_train, cv=5)\n",
    "\n",
    "# train the model using the training data\n",
    "dtc1.fit(X_train, y_train)\n",
    "\n",
    "# predict the labels for the testing data\n",
    "y_pred = dtc1.predict(X_test)\n",
    "\n",
    "# calculate the accuracy of the model\n",
    "accuracy = accuracy_score(y_test, y_pred)\n",
    "print(f\"Accuracy: {accuracy}\")\n",
    "\n",
    "# report the mean accuracy of the model based on 5-fold cross-validation\n",
    "mean_accuracy = scores.mean()\n",
    "print(f\"5-fold CV accuracy: {mean_accuracy}\")"
   ]
  },
  {
   "attachments": {},
   "cell_type": "markdown",
   "metadata": {},
   "source": [
    "### 2.3 Tuning the parameters of the decision tree model"
   ]
  },
  {
   "cell_type": "code",
   "execution_count": 40,
   "metadata": {},
   "outputs": [
    {
     "name": "stdout",
     "output_type": "stream",
     "text": [
      "Accuracy: 0.7686993806574559\n",
      "5-fold CV accuracy: 0.7508360292865657\n"
     ]
    }
   ],
   "source": [
    "# add some parameters to the decision tree classifier\n",
    "from sklearn.model_selection import GridSearchCV\n",
    "dt_params = {'criterion': ['entropy', 'gini'], 'max_depth': [10, 20], 'min_samples_split': [4,10], 'min_samples_leaf': [1,5]}\n",
    "# criterion: the function to measure the quality of a split\n",
    "# max_depth: the maximum depth of the tree\n",
    "# min_samples_split: the minimum number of samples required to split an internal node\n",
    "# min_samples_leaf: the minimum number of samples required to be at a leaf node\n",
    "\n",
    "dtc2 = GridSearchCV(dtc1, dt_params, cv=5) # GridSearchCV performs a grid search over the parameters\n",
    "\n",
    "# train the model using the training data\n",
    "dtc2.fit(X_train, y_train)\n",
    "\n",
    "# predict the labels for the testing data\n",
    "y_pred = dtc2.predict(X_test)\n",
    "\n",
    "# calculate the accuracy of the model\n",
    "accuracy = accuracy_score(y_test, y_pred)\n",
    "print(f\"Accuracy: {accuracy}\")\n",
    "\n",
    "# report the mean accuracy of the model based on 5-fold cross-validation\n",
    "mean_accuracy = scores.mean()\n",
    "print(f\"5-fold CV accuracy: {mean_accuracy}\")"
   ]
  },
  {
   "attachments": {},
   "cell_type": "markdown",
   "metadata": {},
   "source": [
    "### 2.4 Print the best parameters"
   ]
  },
  {
   "cell_type": "code",
   "execution_count": 41,
   "metadata": {},
   "outputs": [
    {
     "name": "stdout",
     "output_type": "stream",
     "text": [
      "Best estimator: DecisionTreeClassifier(max_depth=10, min_samples_leaf=5, min_samples_split=10)\n",
      "Best parameters: {'criterion': 'gini', 'max_depth': 10, 'min_samples_leaf': 5, 'min_samples_split': 10}\n"
     ]
    }
   ],
   "source": [
    "best_params = dtc2.best_params_ # get the best parameters\n",
    "best_estimator = dtc2.best_estimator_ # get the best estimator\n",
    "print(f\"Best estimator: {best_estimator}\")\n",
    "print(f\"Best parameters: {best_params}\")"
   ]
  },
  {
   "attachments": {},
   "cell_type": "markdown",
   "metadata": {},
   "source": [
    "### 2.5 Predict the test data by the best model"
   ]
  },
  {
   "cell_type": "code",
   "execution_count": 42,
   "metadata": {},
   "outputs": [
    {
     "name": "stdout",
     "output_type": "stream",
     "text": [
      "Accuracy: 0.7686993806574559\n"
     ]
    }
   ],
   "source": [
    "# Predict the labels for the test data\n",
    "y_pred = dtc2.predict(X_test)\n",
    "\n",
    "# Calculate the accuracy of the model\n",
    "accuracy = accuracy_score(y_test, y_pred)\n",
    "print(f\"Accuracy: {accuracy}\")"
   ]
  },
  {
   "attachments": {},
   "cell_type": "markdown",
   "metadata": {},
   "source": [
    "## Section 3: Naive Bayes"
   ]
  },
  {
   "attachments": {},
   "cell_type": "markdown",
   "metadata": {},
   "source": [
    "### 3.1. Create Naive Bayes model and tune the hyperparameters"
   ]
  },
  {
   "cell_type": "code",
   "execution_count": 43,
   "metadata": {},
   "outputs": [
    {
     "name": "stdout",
     "output_type": "stream",
     "text": [
      "Accuracy: 0.8180085755121487\n",
      "5-fold CV accuracy: 0.8308766104773255\n"
     ]
    }
   ],
   "source": [
    "from sklearn.naive_bayes import MultinomialNB\n",
    "from sklearn.metrics import accuracy_score\n",
    "from sklearn.model_selection import cross_val_score\n",
    "\n",
    "# create a Naive Bayes classifier\n",
    "nb_model = MultinomialNB()\n",
    "\n",
    "# perform grid search to find the best smoothing parameter alpha\n",
    "smooth_alphas = [0.01, 0.1, 1] # choose some values for alpha\n",
    "best_alpha = None\n",
    "best_score = -1\n",
    "\n",
    "for alpha in smooth_alphas:\n",
    "    nb_model.alpha = alpha\n",
    "    scores = cross_val_score(nb_model, X_train, y_train, cv=5)\n",
    "    mean_score = scores.mean()\n",
    "    \n",
    "    if mean_score > best_score:\n",
    "        best_score = mean_score\n",
    "        best_alpha = alpha\n",
    "        \n",
    "# train the model using the training data and the best smoothing parameter\n",
    "nb_model.alpha = best_alpha\n",
    "nb_model.fit(X_train, y_train)\n",
    "\n",
    "# predict the labels for the testing data\n",
    "y_pred = nb_model.predict(X_test)\n",
    "\n",
    "# calculate the accuracy of the model\n",
    "accuracy = accuracy_score(y_test, y_pred)\n",
    "print(f\"Accuracy: {accuracy}\")\n",
    "\n",
    "# report the mean accuracy of the model based on 5-fold cross-validation\n",
    "nb_model.alpha = best_alpha\n",
    "scores = cross_val_score(nb_model, X_train, y_train, cv=5)\n",
    "mean_accuracy = scores.mean()\n",
    "print(f\"5-fold CV accuracy: {mean_accuracy}\")"
   ]
  },
  {
   "attachments": {},
   "cell_type": "markdown",
   "metadata": {},
   "source": [
    "### 3.2. Print the best parameters and model"
   ]
  },
  {
   "cell_type": "code",
   "execution_count": 44,
   "metadata": {},
   "outputs": [
    {
     "name": "stdout",
     "output_type": "stream",
     "text": [
      "Best alpha: 0.1\n"
     ]
    }
   ],
   "source": [
    "# Print the best smoothing parameter\n",
    "print(f\"Best alpha: {best_alpha}\")"
   ]
  },
  {
   "attachments": {},
   "cell_type": "markdown",
   "metadata": {},
   "source": [
    "### 3.3. Predict the test data by the best model"
   ]
  },
  {
   "cell_type": "code",
   "execution_count": 45,
   "metadata": {},
   "outputs": [
    {
     "name": "stdout",
     "output_type": "stream",
     "text": [
      "0.8180085755121487\n"
     ]
    }
   ],
   "source": [
    "# Predict the labels for the test data\n",
    "y_pred = nb_model.predict(X_test)\n",
    "\n",
    "# Calculate the accuracy of the model\n",
    "accuracy = accuracy_score(y_test, y_pred)\n",
    "print(accuracy)\n"
   ]
  },
  {
   "attachments": {},
   "cell_type": "markdown",
   "metadata": {},
   "source": [
    "## Section 4: Model comparison"
   ]
  },
  {
   "attachments": {},
   "cell_type": "markdown",
   "metadata": {},
   "source": [
    "The accuracy of the decision tree model is 0.77, and the accuracy of the Naive Bayes model is 0.82. The Naive Bayes model has a higher accuracy than the decision tree model.\n",
    "\n",
    "The Naive Bayes model runs faster than the decision tree model. The Naive Bayes model takes 0.8 seconds to run, and the decision tree model takes 32 seconds to run. \n",
    "\n",
    "The Naive Bayes model runs faster because it does not need to split the data into different branches. "
   ]
  }
 ],
 "metadata": {
  "kernelspec": {
   "display_name": "base",
   "language": "python",
   "name": "python3"
  },
  "language_info": {
   "codemirror_mode": {
    "name": "ipython",
    "version": 3
   },
   "file_extension": ".py",
   "mimetype": "text/x-python",
   "name": "python",
   "nbconvert_exporter": "python",
   "pygments_lexer": "ipython3",
   "version": "3.9.12"
  },
  "orig_nbformat": 4
 },
 "nbformat": 4,
 "nbformat_minor": 2
}
